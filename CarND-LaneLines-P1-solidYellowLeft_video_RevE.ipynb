{
 "cells": [
  {
   "cell_type": "code",
   "execution_count": 3,
   "metadata": {
    "scrolled": true
   },
   "outputs": [
    {
     "name": "stdout",
     "output_type": "stream",
     "text": [
      "[MoviePy] >>>> Building video test_videos_output/solidWhiteRight.mp4\n",
      "[MoviePy] Writing video test_videos_output/solidWhiteRight.mp4\n"
     ]
    },
    {
     "name": "stderr",
     "output_type": "stream",
     "text": [
      "100%|█████████▉| 221/222 [00:14<00:00, 15.60it/s]\n"
     ]
    },
    {
     "name": "stdout",
     "output_type": "stream",
     "text": [
      "[MoviePy] Done.\n",
      "[MoviePy] >>>> Video ready: test_videos_output/solidWhiteRight.mp4 \n",
      "\n",
      "CPU times: user 3.21 s, sys: 235 ms, total: 3.44 s\n",
      "Wall time: 16 s\n"
     ]
    },
    {
     "data": {
      "text/html": [
       "\n",
       "<video width=\"960\" height=\"540\" controls>\n",
       "  <source src=\"test_videos_output/solidWhiteRight.mp4\">\n",
       "</video>\n"
      ],
      "text/plain": [
       "<IPython.core.display.HTML object>"
      ]
     },
     "execution_count": 3,
     "metadata": {},
     "output_type": "execute_result"
    }
   ],
   "source": [
    "#importing packages\n",
    "import matplotlib.pyplot as plt\n",
    "import matplotlib.image as mpimg\n",
    "import numpy as np\n",
    "import cv2\n",
    "import math\n",
    "%matplotlib inline\n",
    "\n",
    "import os\n",
    "os.listdir(\"test_images/\")\n",
    "\n",
    "from moviepy.editor import VideoFileClip\n",
    "from IPython.display import HTML\n",
    "\n",
    "# Read in and grayscale the image \n",
    "#image = mpimg.imread('test_images/whiteCarLaneSwitch.jpg')\n",
    "def grayscale_process(image):\n",
    "    gray = cv2.cvtColor(image,cv2.COLOR_RGB2GRAY)\n",
    "    return gray\n",
    "\n",
    "# Define a kernel size and apply Gaussian smoothing\n",
    "def gaussian_blur_process(gray):\n",
    "    kernel_size = 5\n",
    "    blur_gray = cv2.GaussianBlur(gray,(kernel_size, kernel_size),0)\n",
    "    return blur_gray\n",
    "\n",
    "# Define our parameters for Canny and apply\n",
    "def canny_process(blur_gray):\n",
    "    low_threshold = 50\n",
    "    high_threshold = 200\n",
    "    edges = cv2.Canny(blur_gray, low_threshold, high_threshold)\n",
    "    return edges\n",
    "\n",
    "# Next we'll create a masked edges image using cv2.fillPoly()\n",
    "def masked_edges_image(image, edges):\n",
    "    mask = np.zeros_like(edges)   \n",
    "    ignore_mask_color = 255   \n",
    "    \n",
    "    # This time we are defining a four sided polygon to mask\n",
    "    imshape = image.shape\n",
    "    vertices = np.array([[(150,imshape[0]),(400, 322), (550, 322), (imshape[1],imshape[0])]], dtype=np.int32)\n",
    "    cv2.fillPoly(mask, vertices, ignore_mask_color)\n",
    "    masked_edges = cv2.bitwise_and(edges, mask)\n",
    "    return masked_edges\n",
    "\n",
    "# Define the Hough transform parameters\n",
    "# Make a blank the same size as our image to draw on\n",
    "def hough_lines_process(masked_edges, rho, theta, threshold, min_line_length, max_line_gap):\n",
    "    hough = cv2.HoughLinesP(masked_edges, rho, theta, threshold, np.array([]),\n",
    "                            min_line_length, max_line_gap)\n",
    "    return hough\n",
    "\n",
    "rho = 1 # distance resolution in pixels of the Hough grid\n",
    "theta = np.pi/180 # angular resolution in radians of the Hough grid\n",
    "threshold = 40  # minimum number of votes (intersections in Hough grid cell)\n",
    "min_line_length = 15#minimum number of pixels making up a line\n",
    "max_line_gap = 150#maximum gap in pixels between connectable line segments  \n",
    "\n",
    "def weight_img(lines_img, image):\n",
    "    return cv2.addWeighted(image, 1, lines_img, 1, 0)\n",
    "\n",
    "def draw_lines(image, hough):\n",
    "    # Run Hough on edge detected image\n",
    "    # Output \"lines\" is an array containing endpoints of detected line segments\n",
    "    lines_img = np.copy(image)*0 # Black image\n",
    "    lines = hough\n",
    "    for line in lines:\n",
    "        for x1,y1,x2,y2 in line:\n",
    "            cv2.line(lines_img,(x1,y1),(x2,y2),(255,0,0),10)\n",
    "    lines_edges = weight_img(lines_img, image)\n",
    "    return lines_edges \n",
    "\n",
    "def process_image(image):\n",
    "        # Grayscale\n",
    "        gray = grayscale_process(image)\n",
    "        # Gaussian Smoothing\n",
    "        blur_gray = gaussian_blur_process(gray)\n",
    "        # Canny Edge\n",
    "        edges = canny_process(blur_gray)\n",
    "        # Region of Interest\n",
    "        masked_edges = masked_edges_image(image, edges)\n",
    "        # Hough Transform\n",
    "        hough = hough_lines_process(masked_edges, rho, theta, threshold, min_line_length, max_line_gap)\n",
    "        # Draw lines \n",
    "        lines_edges = draw_lines(image, hough) \n",
    "        return lines_edges\n",
    "\n",
    "white_output = 'test_videos_output/solidWhiteRight.mp4'\n",
    "clip1 = VideoFileClip(\"test_videos/solidWhiteRight.mp4\")\n",
    "white_clip = clip1.fl_image(process_image)\n",
    "%time white_clip.write_videofile(white_output, audio=False)\n",
    "\n",
    "HTML(\"\"\"\n",
    "<video width=\"960\" height=\"540\" controls>\n",
    "  <source src=\"{0}\">\n",
    "</video>\n",
    "\"\"\".format(white_output))"
   ]
  },
  {
   "cell_type": "code",
   "execution_count": null,
   "metadata": {},
   "outputs": [],
   "source": []
  },
  {
   "cell_type": "code",
   "execution_count": null,
   "metadata": {},
   "outputs": [],
   "source": []
  },
  {
   "cell_type": "code",
   "execution_count": null,
   "metadata": {},
   "outputs": [],
   "source": []
  },
  {
   "cell_type": "code",
   "execution_count": null,
   "metadata": {},
   "outputs": [],
   "source": []
  }
 ],
 "metadata": {
  "kernelspec": {
   "display_name": "Python 3",
   "language": "python",
   "name": "python3"
  },
  "language_info": {
   "codemirror_mode": {
    "name": "ipython",
    "version": 3
   },
   "file_extension": ".py",
   "mimetype": "text/x-python",
   "name": "python",
   "nbconvert_exporter": "python",
   "pygments_lexer": "ipython3",
   "version": "3.6.3"
  }
 },
 "nbformat": 4,
 "nbformat_minor": 2
}
